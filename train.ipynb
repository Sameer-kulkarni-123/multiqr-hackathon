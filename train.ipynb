{
 "cells": [
  {
   "cell_type": "code",
   "execution_count": null,
   "id": "0a72b409",
   "metadata": {
    "vscode": {
     "languageId": "plaintext"
    }
   },
   "outputs": [],
   "source": [
    "!pip install ultralytics --quiet\n",
    "!pip install roboflow --quiet\n"
   ]
  },
  {
   "cell_type": "code",
   "execution_count": null,
   "id": "b01d1661",
   "metadata": {
    "vscode": {
     "languageId": "plaintext"
    }
   },
   "outputs": [],
   "source": [
    "from roboflow import Roboflow\n",
    "rf = Roboflow(api_key=\"yw5iYk7VfJYhtpk3pISE\")\n",
    "project = rf.workspace(\"sam-smv79\").project(\"1pharmatraditional-cpts9\")\n",
    "version = project.version(3)\n",
    "dataset = version.download(\"yolov8\")"
   ]
  },
  {
   "cell_type": "code",
   "execution_count": null,
   "id": "8791bbbf",
   "metadata": {
    "vscode": {
     "languageId": "plaintext"
    }
   },
   "outputs": [],
   "source": [
    "from ultralytics import YOLO\n",
    "from roboflow import Roboflow\n",
    "import torch\n",
    "import os\n",
    "\n",
    "print(\"CUDA available:\", torch.cuda.is_available())\n",
    "if torch.cuda.is_available():\n",
    "    print(\"GPU:\", torch.cuda.get_device_name(0))\n",
    "\n",
    "\n",
    "\n",
    "DATA_YAML = os.path.join(dataset.location, \"data.yaml\") \n",
    "\n",
    "\n",
    "MODEL = \"yolov8n.pt\"\n",
    "EPOCHS = 50\n",
    "IMGSZ = 640\n",
    "BATCH = 16\n",
    "PROJECT = \"runs/detect\"\n",
    "NAME = \"colab_exp\"\n",
    "\n",
    "\n",
    "model = YOLO(MODEL)\n",
    "\n",
    "model.train(\n",
    "    data=DATA_YAML,\n",
    "    epochs=EPOCHS,\n",
    "    batch=BATCH,\n",
    "    imgsz=IMGSZ,\n",
    "    project=PROJECT,\n",
    "    name=NAME,\n",
    "    device=0  # GPU\n",
    ")\n",
    "\n",
    "print(f\"Best weights saved at {PROJECT}/{NAME}/weights/best.pt\")\n",
    "\n"
   ]
  },
  {
   "cell_type": "code",
   "execution_count": null,
   "id": "f42a080e",
   "metadata": {
    "vscode": {
     "languageId": "plaintext"
    }
   },
   "outputs": [],
   "source": [
    "results = model.predict(\n",
    "    source=os.path.join(dataset.location, \"valid/images\"),\n",
    "    conf=0.80,\n",
    "    device=0\n",
    ")\n",
    "\n",
    "\n",
    "results[2].plot()"
   ]
  }
 ],
 "metadata": {
  "language_info": {
   "name": "python"
  }
 },
 "nbformat": 4,
 "nbformat_minor": 5
}
